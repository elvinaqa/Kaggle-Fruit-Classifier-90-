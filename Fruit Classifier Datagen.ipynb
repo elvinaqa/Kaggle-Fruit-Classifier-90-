{
 "cells": [
  {
   "cell_type": "code",
   "execution_count": 3,
   "metadata": {},
   "outputs": [],
   "source": [
    "import numpy as np\n",
    "import pandas as pd\n",
    "import os"
   ]
  },
  {
   "cell_type": "code",
   "execution_count": 4,
   "metadata": {},
   "outputs": [],
   "source": [
    "import keras\n",
    "from keras.preprocessing.image import ImageDataGenerator\n",
    "from keras.models import Sequential\n",
    "from keras.layers import Dense, Conv2D, Flatten, MaxPool2D, Dropout, Activation"
   ]
  },
  {
   "cell_type": "code",
   "execution_count": 5,
   "metadata": {},
   "outputs": [],
   "source": [
    "num_classes = 81\n",
    "img_rows, img_cols = 32, 32\n",
    "batch_size = 16"
   ]
  },
  {
   "cell_type": "code",
   "execution_count": 6,
   "metadata": {},
   "outputs": [],
   "source": [
    "train_dir = \"./train/\"\n",
    "validation_dir = \"./validation/\""
   ]
  },
  {
   "cell_type": "code",
   "execution_count": 7,
   "metadata": {},
   "outputs": [],
   "source": [
    "# Data Augmentation\n",
    "train_datagen = ImageDataGenerator(rescale=1./255,\n",
    "                                  rotation_range=30,\n",
    "                                  width_shift_range=0.3,\n",
    "                                  height_shift_range=0.3,\n",
    "                                  horizontal_flip=True,\n",
    "                                  fill_mode=\"nearest\")\n",
    "validation_datagen = ImageDataGenerator(rescale=1./255)"
   ]
  },
  {
   "cell_type": "code",
   "execution_count": 8,
   "metadata": {},
   "outputs": [
    {
     "name": "stdout",
     "output_type": "stream",
     "text": [
      "Found 41322 images belonging to 81 classes.\n",
      "Found 13877 images belonging to 81 classes.\n"
     ]
    }
   ],
   "source": [
    "train_generator = train_datagen.flow_from_directory(train_dir,\n",
    "                                                   target_size=(img_rows, img_cols),\n",
    "                                                   batch_size=batch_size,\n",
    "                                                   class_mode=\"categorical\",\n",
    "                                                   shuffle=True)\n",
    "validation_generator = validation_datagen.flow_from_directory(validation_dir,\n",
    "                                                   target_size=(img_rows, img_cols),\n",
    "                                                   batch_size=batch_size,\n",
    "                                                   class_mode=\"categorical\",\n",
    "                                                   shuffle=False)"
   ]
  },
  {
   "cell_type": "code",
   "execution_count": 9,
   "metadata": {},
   "outputs": [
    {
     "name": "stdout",
     "output_type": "stream",
     "text": [
      "WARNING:tensorflow:From C:\\Users\\agamm\\Anaconda3\\lib\\site-packages\\tensorflow\\python\\ops\\resource_variable_ops.py:435: colocate_with (from tensorflow.python.framework.ops) is deprecated and will be removed in a future version.\n",
      "Instructions for updating:\n",
      "Colocations handled automatically by placer.\n"
     ]
    }
   ],
   "source": [
    "model = Sequential()\n",
    "model.add(Conv2D(32, (3,3), padding=\"same\", input_shape=(img_rows, img_cols, 3)))\n",
    "model.add(Activation(\"relu\"))\n",
    "model.add(MaxPool2D(pool_size=(2,2)))\n",
    "model.add(Dropout(0.25))\n",
    "\n",
    "model.add(Conv2D(64, (3,3), padding=\"same\"))\n",
    "model.add(Activation(\"relu\"))\n",
    "model.add(Conv2D(64, (3,3)))\n",
    "model.add(Activation(\"relu\"))\n",
    "model.add(MaxPool2D(pool_size=(2,2)))\n",
    "model.add(Dropout(0.25))\n",
    "\n",
    "model.add(Flatten())\n",
    "model.add(Dense(512))\n",
    "model.add(Activation(\"relu\"))\n",
    "model.add(Dropout(0.5))\n",
    "model.add(Dense(num_classes))\n",
    "model.add(Activation(\"softmax\"))"
   ]
  },
  {
   "cell_type": "code",
   "execution_count": 11,
   "metadata": {},
   "outputs": [
    {
     "name": "stdout",
     "output_type": "stream",
     "text": [
      "Model: \"sequential_1\"\n",
      "_________________________________________________________________\n",
      "Layer (type)                 Output Shape              Param #   \n",
      "=================================================================\n",
      "conv2d_1 (Conv2D)            (None, 32, 32, 32)        896       \n",
      "_________________________________________________________________\n",
      "activation_1 (Activation)    (None, 32, 32, 32)        0         \n",
      "_________________________________________________________________\n",
      "max_pooling2d_1 (MaxPooling2 (None, 16, 16, 32)        0         \n",
      "_________________________________________________________________\n",
      "dropout_1 (Dropout)          (None, 16, 16, 32)        0         \n",
      "_________________________________________________________________\n",
      "conv2d_2 (Conv2D)            (None, 16, 16, 64)        18496     \n",
      "_________________________________________________________________\n",
      "activation_2 (Activation)    (None, 16, 16, 64)        0         \n",
      "_________________________________________________________________\n",
      "conv2d_3 (Conv2D)            (None, 14, 14, 64)        36928     \n",
      "_________________________________________________________________\n",
      "activation_3 (Activation)    (None, 14, 14, 64)        0         \n",
      "_________________________________________________________________\n",
      "max_pooling2d_2 (MaxPooling2 (None, 7, 7, 64)          0         \n",
      "_________________________________________________________________\n",
      "dropout_2 (Dropout)          (None, 7, 7, 64)          0         \n",
      "_________________________________________________________________\n",
      "flatten_1 (Flatten)          (None, 3136)              0         \n",
      "_________________________________________________________________\n",
      "dense_1 (Dense)              (None, 512)               1606144   \n",
      "_________________________________________________________________\n",
      "activation_4 (Activation)    (None, 512)               0         \n",
      "_________________________________________________________________\n",
      "dropout_3 (Dropout)          (None, 512)               0         \n",
      "_________________________________________________________________\n",
      "dense_2 (Dense)              (None, 81)                41553     \n",
      "_________________________________________________________________\n",
      "activation_5 (Activation)    (None, 81)                0         \n",
      "=================================================================\n",
      "Total params: 1,704,017\n",
      "Trainable params: 1,704,017\n",
      "Non-trainable params: 0\n",
      "_________________________________________________________________\n"
     ]
    }
   ],
   "source": [
    "model.summary()"
   ]
  },
  {
   "cell_type": "code",
   "execution_count": 12,
   "metadata": {},
   "outputs": [],
   "source": [
    "from keras.optimizers import RMSprop, SGD\n",
    "from keras.callbacks import EarlyStopping, ReduceLROnPlateau, ModelCheckpoint\n",
    "\n",
    "checkpoint = ModelCheckpoint(\"fruit.h5\", \n",
    "                            monitor=\"val_loss\",\n",
    "                            mode=\"min\",\n",
    "                            save_best_only=True,\n",
    "                            verbose=1)\n",
    "early_stop = EarlyStopping(monitor=\"val_loss\", \n",
    "                          min_delta=0,\n",
    "                          patience=0,\n",
    "                          verbose=1,\n",
    "                          restore_best_weights=True)\n",
    "\n",
    "reduce_lr = ReduceLROnPlateau(monitor='val_loss',\n",
    "                             factor=0.2,\n",
    "                             patience=3,\n",
    "                             verbose=1,\n",
    "                             min_delta=0.0001)"
   ]
  },
  {
   "cell_type": "code",
   "execution_count": 13,
   "metadata": {},
   "outputs": [],
   "source": [
    "callbacks = [early_stop, checkpoint]\n",
    "\n",
    "model.compile(optimizer=RMSprop(lr=0.001), \n",
    "             loss=\"categorical_crossentropy\",\n",
    "             metrics=[\"accuracy\"])"
   ]
  },
  {
   "cell_type": "code",
   "execution_count": 14,
   "metadata": {},
   "outputs": [],
   "source": [
    "train_samples = 41322\n",
    "test_samples = 13877\n",
    "epochs = 5"
   ]
  },
  {
   "cell_type": "code",
   "execution_count": 15,
   "metadata": {},
   "outputs": [
    {
     "name": "stdout",
     "output_type": "stream",
     "text": [
      "WARNING:tensorflow:From C:\\Users\\agamm\\Anaconda3\\lib\\site-packages\\tensorflow\\python\\ops\\math_ops.py:3066: to_int32 (from tensorflow.python.ops.math_ops) is deprecated and will be removed in a future version.\n",
      "Instructions for updating:\n",
      "Use tf.cast instead.\n",
      "Epoch 1/5\n",
      "2582/2582 [==============================] - 1039s 402ms/step - loss: 1.5957 - accuracy: 0.5219 - val_loss: 2.2674e-04 - val_accuracy: 0.8574\n",
      "\n",
      "Epoch 00001: val_loss improved from inf to 0.00023, saving model to fruit.h5\n",
      "Epoch 2/5\n",
      "2582/2582 [==============================] - 260s 101ms/step - loss: 0.5631 - accuracy: 0.8212 - val_loss: 5.5889e-04 - val_accuracy: 0.9061\n",
      "Restoring model weights from the end of the best epoch\n",
      "\n",
      "Epoch 00002: val_loss did not improve from 0.00023\n",
      "Epoch 00002: early stopping\n"
     ]
    }
   ],
   "source": [
    "history = model.fit_generator(train_generator, \n",
    "                    steps_per_epoch=train_samples // batch_size,\n",
    "                       epochs=epochs,\n",
    "                       callbacks=callbacks,\n",
    "                       validation_data=validation_generator,\n",
    "                       validation_steps=test_samples // batch_size)"
   ]
  },
  {
   "cell_type": "code",
   "execution_count": 18,
   "metadata": {},
   "outputs": [
    {
     "name": "stdout",
     "output_type": "stream",
     "text": [
      "[[164   0   0 ...   0   0   0]\n",
      " [  0 163   0 ...   0   0   0]\n",
      " [  0  11 127 ...   0   0   0]\n",
      " ...\n",
      " [  0   0   0 ... 164   0   0]\n",
      " [  0   0   0 ...   0 127   0]\n",
      " [  0   0   0 ...   0   0 249]]\n"
     ]
    },
    {
     "ename": "NameError",
     "evalue": "name 'class_labels' is not defined",
     "output_type": "error",
     "traceback": [
      "\u001b[1;31m---------------------------------------------------------------------------\u001b[0m",
      "\u001b[1;31mNameError\u001b[0m                                 Traceback (most recent call last)",
      "\u001b[1;32m<ipython-input-18-a2c0a6ded322>\u001b[0m in \u001b[0;36m<module>\u001b[1;34m\u001b[0m\n\u001b[0;32m      3\u001b[0m \u001b[0my_pred\u001b[0m \u001b[1;33m=\u001b[0m \u001b[0mnp\u001b[0m\u001b[1;33m.\u001b[0m\u001b[0margmax\u001b[0m\u001b[1;33m(\u001b[0m\u001b[0mY_pred\u001b[0m\u001b[1;33m,\u001b[0m \u001b[0maxis\u001b[0m\u001b[1;33m=\u001b[0m\u001b[1;36m1\u001b[0m\u001b[1;33m)\u001b[0m\u001b[1;33m\u001b[0m\u001b[1;33m\u001b[0m\u001b[0m\n\u001b[0;32m      4\u001b[0m \u001b[0mprint\u001b[0m\u001b[1;33m(\u001b[0m\u001b[0mconfusion_matrix\u001b[0m\u001b[1;33m(\u001b[0m\u001b[0mvalidation_generator\u001b[0m\u001b[1;33m.\u001b[0m\u001b[0mclasses\u001b[0m\u001b[1;33m,\u001b[0m \u001b[0my_pred\u001b[0m\u001b[1;33m)\u001b[0m\u001b[1;33m)\u001b[0m\u001b[1;33m\u001b[0m\u001b[1;33m\u001b[0m\u001b[0m\n\u001b[1;32m----> 5\u001b[1;33m \u001b[0mtarget_names\u001b[0m \u001b[1;33m=\u001b[0m \u001b[0mlist\u001b[0m\u001b[1;33m(\u001b[0m\u001b[0mclass_labels\u001b[0m\u001b[1;33m.\u001b[0m\u001b[0mvalues\u001b[0m\u001b[1;33m(\u001b[0m\u001b[1;33m)\u001b[0m\u001b[1;33m)\u001b[0m\u001b[1;33m\u001b[0m\u001b[1;33m\u001b[0m\u001b[0m\n\u001b[0m\u001b[0;32m      6\u001b[0m \u001b[0mprint\u001b[0m\u001b[1;33m(\u001b[0m\u001b[0mclassification_report\u001b[0m\u001b[1;33m(\u001b[0m\u001b[0mvalidation_generator\u001b[0m\u001b[1;33m.\u001b[0m\u001b[0mclasses\u001b[0m\u001b[1;33m,\u001b[0m \u001b[0my_pred\u001b[0m\u001b[1;33m)\u001b[0m\u001b[1;33m)\u001b[0m\u001b[1;33m\u001b[0m\u001b[1;33m\u001b[0m\u001b[0m\n",
      "\u001b[1;31mNameError\u001b[0m: name 'class_labels' is not defined"
     ]
    }
   ],
   "source": [
    "from sklearn.metrics import classification_report, confusion_matrix\n",
    "Y_pred = model.predict_generator(validation_generator, test_samples // batch_size + 1)\n",
    "y_pred = np.argmax(Y_pred, axis=1)\n",
    "print(confusion_matrix(validation_generator.classes, y_pred))\n",
    "# target_names = list(class_labels.values())"
   ]
  },
  {
   "cell_type": "code",
   "execution_count": 19,
   "metadata": {},
   "outputs": [
    {
     "name": "stdout",
     "output_type": "stream",
     "text": [
      "              precision    recall  f1-score   support\n",
      "\n",
      "           0       0.33      1.00      0.50       164\n",
      "           1       0.78      0.99      0.87       164\n",
      "           2       0.93      0.77      0.85       164\n",
      "           3       0.82      0.14      0.24       161\n",
      "           4       0.86      1.00      0.93       164\n",
      "           5       0.68      1.00      0.81       164\n",
      "           6       1.00      0.56      0.72       164\n",
      "           7       0.76      0.31      0.44       144\n",
      "           8       0.98      1.00      0.99       166\n",
      "           9       1.00      0.91      0.95       164\n",
      "          10       1.00      1.00      1.00       164\n",
      "          11       1.00      1.00      1.00       143\n",
      "          12       1.00      0.36      0.53       166\n",
      "          13       0.98      0.98      0.98       166\n",
      "          14       0.92      0.63      0.75       166\n",
      "          15       0.83      0.93      0.88       166\n",
      "          16       1.00      1.00      1.00       164\n",
      "          17       0.64      0.99      0.78       164\n",
      "          18       1.00      0.55      0.71       166\n",
      "          19       0.67      1.00      0.80       164\n",
      "          20       0.54      0.36      0.43       246\n",
      "          21       0.67      0.50      0.58       246\n",
      "          22       1.00      1.00      1.00       164\n",
      "          23       1.00      1.00      1.00       164\n",
      "          24       1.00      1.00      1.00       164\n",
      "          25       1.00      0.76      0.86       166\n",
      "          26       1.00      1.00      1.00       166\n",
      "          27       0.92      1.00      0.96       166\n",
      "          28       0.86      1.00      0.92       166\n",
      "          29       0.93      1.00      0.96       164\n",
      "          30       1.00      0.92      0.96       166\n",
      "          31       0.99      1.00      1.00       166\n",
      "          32       1.00      0.65      0.79       166\n",
      "          33       0.67      1.00      0.80       164\n",
      "          34       0.94      1.00      0.97       166\n",
      "          35       1.00      1.00      1.00       166\n",
      "          36       0.95      1.00      0.98       166\n",
      "          37       0.81      1.00      0.90       156\n",
      "          38       1.00      0.66      0.80       166\n",
      "          39       0.92      0.50      0.65       164\n",
      "          40       1.00      1.00      1.00       166\n",
      "          41       1.00      0.75      0.86       166\n",
      "          42       0.79      0.30      0.44       166\n",
      "          43       0.86      1.00      0.92       166\n",
      "          44       1.00      1.00      1.00       166\n",
      "          45       1.00      0.82      0.90       166\n",
      "          46       1.00      0.88      0.94       246\n",
      "          47       0.59      0.91      0.71       164\n",
      "          48       1.00      0.57      0.73       164\n",
      "          49       1.00      1.00      1.00       160\n",
      "          50       0.96      1.00      0.98       164\n",
      "          51       1.00      1.00      1.00       166\n",
      "          52       1.00      0.59      0.74       164\n",
      "          53       0.98      0.69      0.81       164\n",
      "          54       0.46      1.00      0.63       164\n",
      "          55       0.78      0.96      0.86       166\n",
      "          56       0.95      0.70      0.81       166\n",
      "          57       0.92      0.88      0.90       166\n",
      "          58       0.89      1.00      0.94       166\n",
      "          59       1.00      1.00      1.00       164\n",
      "          60       0.74      0.98      0.84       164\n",
      "          61       0.96      0.95      0.95       166\n",
      "          62       1.00      0.59      0.74       163\n",
      "          63       1.00      0.99      0.99       166\n",
      "          64       0.99      1.00      0.99       151\n",
      "          65       1.00      0.35      0.52       164\n",
      "          66       0.90      1.00      0.95       166\n",
      "          67       0.99      1.00      1.00       164\n",
      "          68       1.00      1.00      1.00       166\n",
      "          69       0.63      0.97      0.77       162\n",
      "          70       0.99      1.00      1.00       164\n",
      "          71       1.00      0.75      0.86       246\n",
      "          72       0.94      0.70      0.80       166\n",
      "          73       0.74      1.00      0.85       166\n",
      "          74       1.00      1.00      1.00       246\n",
      "          75       0.58      0.88      0.70       225\n",
      "          76       0.83      1.00      0.90       246\n",
      "          77       1.00      1.00      1.00       160\n",
      "          78       0.80      1.00      0.89       164\n",
      "          79       1.00      1.00      1.00       127\n",
      "          80       1.00      1.00      1.00       249\n",
      "\n",
      "    accuracy                           0.86     13877\n",
      "   macro avg       0.90      0.86      0.85     13877\n",
      "weighted avg       0.89      0.86      0.85     13877\n",
      "\n"
     ]
    }
   ],
   "source": [
    "\n",
    "print(classification_report(validation_generator.classes, y_pred))"
   ]
  },
  {
   "cell_type": "code",
   "execution_count": null,
   "metadata": {},
   "outputs": [],
   "source": []
  }
 ],
 "metadata": {
  "kernelspec": {
   "display_name": "Python 3",
   "language": "python",
   "name": "python3"
  },
  "language_info": {
   "codemirror_mode": {
    "name": "ipython",
    "version": 3
   },
   "file_extension": ".py",
   "mimetype": "text/x-python",
   "name": "python",
   "nbconvert_exporter": "python",
   "pygments_lexer": "ipython3",
   "version": "3.7.7"
  }
 },
 "nbformat": 4,
 "nbformat_minor": 4
}
